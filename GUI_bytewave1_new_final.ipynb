{
 "cells": [
  {
   "cell_type": "code",
   "execution_count": 2,
   "metadata": {},
   "outputs": [
    {
     "name": "stdout",
     "output_type": "stream",
     "text": [
      "768\n",
      "C:/Users/user/bbb.csv\n",
      "Index(['firstname', 'lastname', 'address'], dtype='object')\n"
     ]
    }
   ],
   "source": [
    "from  tkinter import *\n",
    "from tkinter import ttk\n",
    "import pandas as pd\n",
    "from tkinter import filedialog\n",
    "from tkinter.filedialog import askopenfilename\n",
    "from tkinter import Canvas\n",
    "root = Tk()\n",
    "root.title('Routing Forecasting')\n",
    "width = root.winfo_screenwidth()\n",
    "height = root.winfo_screenheight()\n",
    "root.geometry(\"%dx%d\" % (width, height))\n",
    "root.resizable(100,100)\n",
    "print(height)\n",
    "listbox1=Listbox(root,width=50,height=10)\n",
    "listbox2=Listbox(root,width=30,height=10)\n",
    "b=\"\"\n",
    "c=\"\"\n",
    "def loading():\n",
    "    csv_file_path = askopenfilename()\n",
    "    print(csv_file_path)\n",
    "    global df,columns,types\n",
    "    df=pd.read_csv(csv_file_path)\n",
    "def view():\n",
    "    print(df.columns)\n",
    "    v=dict()\n",
    "    columns=df.columns\n",
    "    s=list(columns)\n",
    "    j=0\n",
    "    for i in s:\n",
    "        v[i]=j\n",
    "        j+=1\n",
    "        b=str(i)\n",
    "        listbox1.insert(END,b)\n",
    "def viewnew():\n",
    "    types=df.dtypes\n",
    "    d=list(types)\n",
    "    z=dict()\n",
    "    n=0\n",
    "    for typ in d:\n",
    "        z[typ]=n\n",
    "        n+=1\n",
    "        c=str(typ)\n",
    "        listbox2.insert(END,c)\n",
    "Label(root,text=\"Variables:\",width=10).grid(row=6,column=0)\n",
    "Label(root,text=\"Datatypes:\",width=10).grid(row=7,column=0)\n",
    "listbox1.place(x=100,y=100)\n",
    "listbox2.place(x=250,y=100)\n",
    "T=Text(root,height=1,width=30)\n",
    "T.grid(row=1,column=1)\n",
    "T.insert(END, \"Please give the dataset\")\n",
    "Button(root,text='Open File', command=loading).grid(row=2, column=1, pady=1)   \n",
    "Button(root,text='View variables',command=view).grid(row=4,column=1,pady=1)\n",
    "Button(root,text='View Datatypes',command=viewnew).grid(row=6,column=1,pady=1)\n",
    "Button(root,text='Train the Dataset').place(x=150,y=350)\n",
    "Button(root,text='Close',command=root.destroy).place(x=180,y=600)\n",
    "root.mainloop()  "
   ]
  },
  {
   "cell_type": "code",
   "execution_count": 1,
   "metadata": {
    "collapsed": true
   },
   "outputs": [],
   "source": [
    "import pandas as pd\n",
    "cv=pd.read_csv('bbb.csv')"
   ]
  },
  {
   "cell_type": "code",
   "execution_count": 2,
   "metadata": {},
   "outputs": [
    {
     "data": {
      "text/html": [
       "<div>\n",
       "<style>\n",
       "    .dataframe thead tr:only-child th {\n",
       "        text-align: right;\n",
       "    }\n",
       "\n",
       "    .dataframe thead th {\n",
       "        text-align: left;\n",
       "    }\n",
       "\n",
       "    .dataframe tbody tr th {\n",
       "        vertical-align: top;\n",
       "    }\n",
       "</style>\n",
       "<table border=\"1\" class=\"dataframe\">\n",
       "  <thead>\n",
       "    <tr style=\"text-align: right;\">\n",
       "      <th></th>\n",
       "      <th>firstname</th>\n",
       "      <th>lastname</th>\n",
       "      <th>address</th>\n",
       "    </tr>\n",
       "  </thead>\n",
       "  <tbody>\n",
       "    <tr>\n",
       "      <th>0</th>\n",
       "      <td>aaa</td>\n",
       "      <td>sss</td>\n",
       "      <td>jkkk</td>\n",
       "    </tr>\n",
       "    <tr>\n",
       "      <th>1</th>\n",
       "      <td>bb</td>\n",
       "      <td>sss</td>\n",
       "      <td>kjg</td>\n",
       "    </tr>\n",
       "    <tr>\n",
       "      <th>2</th>\n",
       "      <td>cc</td>\n",
       "      <td>sss</td>\n",
       "      <td>ggf</td>\n",
       "    </tr>\n",
       "    <tr>\n",
       "      <th>3</th>\n",
       "      <td>dd</td>\n",
       "      <td>dd</td>\n",
       "      <td>f</td>\n",
       "    </tr>\n",
       "    <tr>\n",
       "      <th>4</th>\n",
       "      <td>ee</td>\n",
       "      <td>dd</td>\n",
       "      <td>fddd</td>\n",
       "    </tr>\n",
       "    <tr>\n",
       "      <th>5</th>\n",
       "      <td>ff</td>\n",
       "      <td>rty</td>\n",
       "      <td>s</td>\n",
       "    </tr>\n",
       "    <tr>\n",
       "      <th>6</th>\n",
       "      <td>gg</td>\n",
       "      <td>wee</td>\n",
       "      <td>ssaa</td>\n",
       "    </tr>\n",
       "    <tr>\n",
       "      <th>7</th>\n",
       "      <td>hh</td>\n",
       "      <td>kl</td>\n",
       "      <td>aaa</td>\n",
       "    </tr>\n",
       "    <tr>\n",
       "      <th>8</th>\n",
       "      <td>ii</td>\n",
       "      <td>lll</td>\n",
       "      <td>hhhff</td>\n",
       "    </tr>\n",
       "  </tbody>\n",
       "</table>\n",
       "</div>"
      ],
      "text/plain": [
       "  firstname lastname address\n",
       "0       aaa      sss    jkkk\n",
       "1        bb      sss     kjg\n",
       "2        cc      sss     ggf\n",
       "3        dd       dd       f\n",
       "4        ee       dd    fddd\n",
       "5        ff      rty       s\n",
       "6        gg      wee    ssaa\n",
       "7        hh       kl     aaa\n",
       "8        ii      lll   hhhff"
      ]
     },
     "execution_count": 2,
     "metadata": {},
     "output_type": "execute_result"
    }
   ],
   "source": [
    "cv"
   ]
  },
  {
   "cell_type": "code",
   "execution_count": 6,
   "metadata": {},
   "outputs": [
    {
     "data": {
      "text/plain": [
       "[dtype('O'), dtype('O'), dtype('O')]"
      ]
     },
     "execution_count": 6,
     "metadata": {},
     "output_type": "execute_result"
    }
   ],
   "source": [
    "ss=cv.dtypes\n",
    "ss=list(ss)\n",
    "ss"
   ]
  },
  {
   "cell_type": "code",
   "execution_count": 15,
   "metadata": {},
   "outputs": [
    {
     "data": {
      "text/plain": [
       "firstname    object\n",
       "lastname     object\n",
       "address      object\n",
       "dtype: object"
      ]
     },
     "execution_count": 15,
     "metadata": {},
     "output_type": "execute_result"
    }
   ],
   "source": [
    "list(ss)\n",
    "ss"
   ]
  },
  {
   "cell_type": "code",
   "execution_count": null,
   "metadata": {
    "collapsed": true
   },
   "outputs": [],
   "source": []
  }
 ],
 "metadata": {
  "kernelspec": {
   "display_name": "Python 3",
   "language": "python",
   "name": "python3"
  },
  "language_info": {
   "codemirror_mode": {
    "name": "ipython",
    "version": 3
   },
   "file_extension": ".py",
   "mimetype": "text/x-python",
   "name": "python",
   "nbconvert_exporter": "python",
   "pygments_lexer": "ipython3",
   "version": "3.6.1"
  }
 },
 "nbformat": 4,
 "nbformat_minor": 2
}
